{
 "cells": [
  {
   "cell_type": "code",
   "execution_count": 25,
   "metadata": {},
   "outputs": [],
   "source": [
    "#导入相关库\n",
    "import numpy as np\n",
    "import pandas as pd\n",
    "import matplotlib.pyplot as plt\n",
    "plt.rc('figure', figsize=(10,5))\n",
    "plt.rc('font',size=12)\n",
    "pd.options.display.max_rows = 10\n",
    "from datetime import datetime\n",
    "from pandas import Series,DataFrame\n",
    "%matplotlib inline"
   ]
  },
  {
   "cell_type": "code",
   "execution_count": 4,
   "metadata": {},
   "outputs": [
    {
     "data": {
      "text/html": [
       "<div>\n",
       "<style scoped>\n",
       "    .dataframe tbody tr th:only-of-type {\n",
       "        vertical-align: middle;\n",
       "    }\n",
       "\n",
       "    .dataframe tbody tr th {\n",
       "        vertical-align: top;\n",
       "    }\n",
       "\n",
       "    .dataframe thead th {\n",
       "        text-align: right;\n",
       "    }\n",
       "</style>\n",
       "<table border=\"1\" class=\"dataframe\">\n",
       "  <thead>\n",
       "    <tr style=\"text-align: right;\">\n",
       "      <th></th>\n",
       "      <th>Number</th>\n",
       "      <th>transaction_id</th>\n",
       "      <th>contract_id</th>\n",
       "      <th>client_id</th>\n",
       "      <th>transaction_date</th>\n",
       "      <th>payment_amt</th>\n",
       "      <th>payment_code</th>\n",
       "      <th>date</th>\n",
       "      <th>entity_type</th>\n",
       "      <th>entity_year_established</th>\n",
       "      <th>payment__code</th>\n",
       "    </tr>\n",
       "  </thead>\n",
       "  <tbody>\n",
       "    <tr>\n",
       "      <th>0</th>\n",
       "      <td>1</td>\n",
       "      <td>20175</td>\n",
       "      <td>927</td>\n",
       "      <td>1</td>\n",
       "      <td>1527012511</td>\n",
       "      <td>66.66</td>\n",
       "      <td>PAYMENT</td>\n",
       "      <td>2018/5/23</td>\n",
       "      <td>Other Partnership</td>\n",
       "      <td>2006</td>\n",
       "      <td>0</td>\n",
       "    </tr>\n",
       "    <tr>\n",
       "      <th>1</th>\n",
       "      <td>2</td>\n",
       "      <td>8485</td>\n",
       "      <td>927</td>\n",
       "      <td>1</td>\n",
       "      <td>1511716095</td>\n",
       "      <td>66.66</td>\n",
       "      <td>PAYMENT</td>\n",
       "      <td>2017/11/27</td>\n",
       "      <td>Other Partnership</td>\n",
       "      <td>2006</td>\n",
       "      <td>0</td>\n",
       "    </tr>\n",
       "    <tr>\n",
       "      <th>2</th>\n",
       "      <td>3</td>\n",
       "      <td>13778</td>\n",
       "      <td>927</td>\n",
       "      <td>1</td>\n",
       "      <td>1519319303</td>\n",
       "      <td>66.66</td>\n",
       "      <td>PAYMENT</td>\n",
       "      <td>2018/2/23</td>\n",
       "      <td>Other Partnership</td>\n",
       "      <td>2006</td>\n",
       "      <td>0</td>\n",
       "    </tr>\n",
       "    <tr>\n",
       "      <th>3</th>\n",
       "      <td>4</td>\n",
       "      <td>22768</td>\n",
       "      <td>927</td>\n",
       "      <td>1</td>\n",
       "      <td>1529863724</td>\n",
       "      <td>66.66</td>\n",
       "      <td>PAYMENT</td>\n",
       "      <td>2018/6/25</td>\n",
       "      <td>Other Partnership</td>\n",
       "      <td>2006</td>\n",
       "      <td>0</td>\n",
       "    </tr>\n",
       "    <tr>\n",
       "      <th>4</th>\n",
       "      <td>5</td>\n",
       "      <td>15698</td>\n",
       "      <td>927</td>\n",
       "      <td>1</td>\n",
       "      <td>1521738504</td>\n",
       "      <td>66.66</td>\n",
       "      <td>PAYMENT</td>\n",
       "      <td>2018/3/23</td>\n",
       "      <td>Other Partnership</td>\n",
       "      <td>2006</td>\n",
       "      <td>0</td>\n",
       "    </tr>\n",
       "  </tbody>\n",
       "</table>\n",
       "</div>"
      ],
      "text/plain": [
       "   Number  transaction_id  contract_id  client_id  transaction_date  \\\n",
       "0       1           20175          927          1        1527012511   \n",
       "1       2            8485          927          1        1511716095   \n",
       "2       3           13778          927          1        1519319303   \n",
       "3       4           22768          927          1        1529863724   \n",
       "4       5           15698          927          1        1521738504   \n",
       "\n",
       "   payment_amt payment_code        date        entity_type  \\\n",
       "0        66.66      PAYMENT   2018/5/23  Other Partnership   \n",
       "1        66.66      PAYMENT  2017/11/27  Other Partnership   \n",
       "2        66.66      PAYMENT   2018/2/23  Other Partnership   \n",
       "3        66.66      PAYMENT   2018/6/25  Other Partnership   \n",
       "4        66.66      PAYMENT   2018/3/23  Other Partnership   \n",
       "\n",
       "   entity_year_established  payment__code  \n",
       "0                     2006              0  \n",
       "1                     2006              0  \n",
       "2                     2006              0  \n",
       "3                     2006              0  \n",
       "4                     2006              0  "
      ]
     },
     "execution_count": 4,
     "metadata": {},
     "output_type": "execute_result"
    }
   ],
   "source": [
    "#load dataset\n",
    "df = pd.read_csv('Clients2.csv')\n",
    "df.head()"
   ]
  },
  {
   "cell_type": "code",
   "execution_count": 5,
   "metadata": {},
   "outputs": [
    {
     "name": "stdout",
     "output_type": "stream",
     "text": [
      "<class 'pandas.core.frame.DataFrame'>\n",
      "RangeIndex: 25559 entries, 0 to 25558\n",
      "Data columns (total 11 columns):\n",
      "Number                     25559 non-null int64\n",
      "transaction_id             25559 non-null int64\n",
      "contract_id                25559 non-null int64\n",
      "client_id                  25559 non-null int64\n",
      "transaction_date           25559 non-null int64\n",
      "payment_amt                25559 non-null float64\n",
      "payment_code               25559 non-null object\n",
      "date                       25559 non-null object\n",
      "entity_type                25559 non-null object\n",
      "entity_year_established    25559 non-null int64\n",
      "payment__code              25559 non-null int64\n",
      "dtypes: float64(1), int64(7), object(3)\n",
      "memory usage: 2.1+ MB\n"
     ]
    }
   ],
   "source": [
    "df.info()"
   ]
  },
  {
   "cell_type": "code",
   "execution_count": 6,
   "metadata": {},
   "outputs": [],
   "source": [
    "##Data is clean without missing value."
   ]
  },
  {
   "cell_type": "code",
   "execution_count": 7,
   "metadata": {},
   "outputs": [
    {
     "data": {
      "text/plain": [
       "payment_code\n",
       "DEFAULT     2219\n",
       "PAYMENT    23340\n",
       "Name: Number, dtype: int64"
      ]
     },
     "execution_count": 7,
     "metadata": {},
     "output_type": "execute_result"
    }
   ],
   "source": [
    "grouped=df[\"Number\"].groupby(df[\"payment_code\"]).count()\n",
    "grouped"
   ]
  },
  {
   "cell_type": "code",
   "execution_count": 8,
   "metadata": {},
   "outputs": [
    {
     "data": {
      "text/html": [
       "<div>\n",
       "<style scoped>\n",
       "    .dataframe tbody tr th:only-of-type {\n",
       "        vertical-align: middle;\n",
       "    }\n",
       "\n",
       "    .dataframe tbody tr th {\n",
       "        vertical-align: top;\n",
       "    }\n",
       "\n",
       "    .dataframe thead th {\n",
       "        text-align: right;\n",
       "    }\n",
       "</style>\n",
       "<table border=\"1\" class=\"dataframe\">\n",
       "  <thead>\n",
       "    <tr style=\"text-align: right;\">\n",
       "      <th></th>\n",
       "      <th>Number</th>\n",
       "      <th>transaction_id</th>\n",
       "      <th>contract_id</th>\n",
       "      <th>client_id</th>\n",
       "      <th>transaction_date</th>\n",
       "      <th>payment_amt</th>\n",
       "      <th>entity_year_established</th>\n",
       "      <th>payment__code</th>\n",
       "    </tr>\n",
       "  </thead>\n",
       "  <tbody>\n",
       "    <tr>\n",
       "      <th>count</th>\n",
       "      <td>25559.000000</td>\n",
       "      <td>25559.000000</td>\n",
       "      <td>25559.000000</td>\n",
       "      <td>25559.000000</td>\n",
       "      <td>2.555900e+04</td>\n",
       "      <td>25559.000000</td>\n",
       "      <td>25559.000000</td>\n",
       "      <td>25559.000000</td>\n",
       "    </tr>\n",
       "    <tr>\n",
       "      <th>mean</th>\n",
       "      <td>12780.000000</td>\n",
       "      <td>12780.000000</td>\n",
       "      <td>758.221409</td>\n",
       "      <td>602.886811</td>\n",
       "      <td>1.517126e+09</td>\n",
       "      <td>1221.455691</td>\n",
       "      <td>2009.160335</td>\n",
       "      <td>0.086819</td>\n",
       "    </tr>\n",
       "    <tr>\n",
       "      <th>std</th>\n",
       "      <td>7378.392101</td>\n",
       "      <td>7378.392101</td>\n",
       "      <td>352.190207</td>\n",
       "      <td>344.782295</td>\n",
       "      <td>9.964331e+06</td>\n",
       "      <td>4346.049363</td>\n",
       "      <td>5.623413</td>\n",
       "      <td>0.281575</td>\n",
       "    </tr>\n",
       "    <tr>\n",
       "      <th>min</th>\n",
       "      <td>1.000000</td>\n",
       "      <td>1.000000</td>\n",
       "      <td>1.000000</td>\n",
       "      <td>1.000000</td>\n",
       "      <td>1.499019e+09</td>\n",
       "      <td>-136.660000</td>\n",
       "      <td>1999.000000</td>\n",
       "      <td>0.000000</td>\n",
       "    </tr>\n",
       "    <tr>\n",
       "      <th>25%</th>\n",
       "      <td>6390.500000</td>\n",
       "      <td>6390.500000</td>\n",
       "      <td>510.000000</td>\n",
       "      <td>308.000000</td>\n",
       "      <td>1.508433e+09</td>\n",
       "      <td>93.330000</td>\n",
       "      <td>2005.000000</td>\n",
       "      <td>0.000000</td>\n",
       "    </tr>\n",
       "    <tr>\n",
       "      <th>50%</th>\n",
       "      <td>12780.000000</td>\n",
       "      <td>12780.000000</td>\n",
       "      <td>732.000000</td>\n",
       "      <td>593.000000</td>\n",
       "      <td>1.518110e+09</td>\n",
       "      <td>266.660000</td>\n",
       "      <td>2011.000000</td>\n",
       "      <td>0.000000</td>\n",
       "    </tr>\n",
       "    <tr>\n",
       "      <th>75%</th>\n",
       "      <td>19169.500000</td>\n",
       "      <td>19169.500000</td>\n",
       "      <td>991.000000</td>\n",
       "      <td>894.000000</td>\n",
       "      <td>1.525976e+09</td>\n",
       "      <td>833.330000</td>\n",
       "      <td>2014.000000</td>\n",
       "      <td>0.000000</td>\n",
       "    </tr>\n",
       "    <tr>\n",
       "      <th>max</th>\n",
       "      <td>25559.000000</td>\n",
       "      <td>25559.000000</td>\n",
       "      <td>1643.000000</td>\n",
       "      <td>1281.000000</td>\n",
       "      <td>1.532456e+09</td>\n",
       "      <td>200000.050000</td>\n",
       "      <td>2018.000000</td>\n",
       "      <td>1.000000</td>\n",
       "    </tr>\n",
       "  </tbody>\n",
       "</table>\n",
       "</div>"
      ],
      "text/plain": [
       "             Number  transaction_id   contract_id     client_id  \\\n",
       "count  25559.000000    25559.000000  25559.000000  25559.000000   \n",
       "mean   12780.000000    12780.000000    758.221409    602.886811   \n",
       "std     7378.392101     7378.392101    352.190207    344.782295   \n",
       "min        1.000000        1.000000      1.000000      1.000000   \n",
       "25%     6390.500000     6390.500000    510.000000    308.000000   \n",
       "50%    12780.000000    12780.000000    732.000000    593.000000   \n",
       "75%    19169.500000    19169.500000    991.000000    894.000000   \n",
       "max    25559.000000    25559.000000   1643.000000   1281.000000   \n",
       "\n",
       "       transaction_date    payment_amt  entity_year_established  payment__code  \n",
       "count      2.555900e+04   25559.000000             25559.000000   25559.000000  \n",
       "mean       1.517126e+09    1221.455691              2009.160335       0.086819  \n",
       "std        9.964331e+06    4346.049363                 5.623413       0.281575  \n",
       "min        1.499019e+09    -136.660000              1999.000000       0.000000  \n",
       "25%        1.508433e+09      93.330000              2005.000000       0.000000  \n",
       "50%        1.518110e+09     266.660000              2011.000000       0.000000  \n",
       "75%        1.525976e+09     833.330000              2014.000000       0.000000  \n",
       "max        1.532456e+09  200000.050000              2018.000000       1.000000  "
      ]
     },
     "execution_count": 8,
     "metadata": {},
     "output_type": "execute_result"
    }
   ],
   "source": [
    "df.describe()"
   ]
  },
  {
   "cell_type": "code",
   "execution_count": 68,
   "metadata": {},
   "outputs": [
    {
     "data": {
      "text/html": [
       "<div>\n",
       "<style scoped>\n",
       "    .dataframe tbody tr th:only-of-type {\n",
       "        vertical-align: middle;\n",
       "    }\n",
       "\n",
       "    .dataframe tbody tr th {\n",
       "        vertical-align: top;\n",
       "    }\n",
       "\n",
       "    .dataframe thead th {\n",
       "        text-align: right;\n",
       "    }\n",
       "</style>\n",
       "<table border=\"1\" class=\"dataframe\">\n",
       "  <thead>\n",
       "    <tr style=\"text-align: right;\">\n",
       "      <th></th>\n",
       "      <th>Number</th>\n",
       "      <th>transaction_id</th>\n",
       "      <th>contract_id</th>\n",
       "      <th>client_id</th>\n",
       "      <th>transaction_date</th>\n",
       "      <th>payment_amt</th>\n",
       "      <th>payment_code</th>\n",
       "      <th>date</th>\n",
       "      <th>entity_type</th>\n",
       "      <th>entity_year_established</th>\n",
       "      <th>payment__code</th>\n",
       "    </tr>\n",
       "  </thead>\n",
       "  <tbody>\n",
       "    <tr>\n",
       "      <th>98</th>\n",
       "      <td>99</td>\n",
       "      <td>15231</td>\n",
       "      <td>836</td>\n",
       "      <td>7</td>\n",
       "      <td>1521392903</td>\n",
       "      <td>50.00</td>\n",
       "      <td>DEFAULT</td>\n",
       "      <td>2018/3/19</td>\n",
       "      <td>Australian Private Company</td>\n",
       "      <td>2015</td>\n",
       "      <td>1</td>\n",
       "    </tr>\n",
       "    <tr>\n",
       "      <th>100</th>\n",
       "      <td>101</td>\n",
       "      <td>14979</td>\n",
       "      <td>836</td>\n",
       "      <td>7</td>\n",
       "      <td>1520960902</td>\n",
       "      <td>66.66</td>\n",
       "      <td>DEFAULT</td>\n",
       "      <td>2018/3/14</td>\n",
       "      <td>Australian Private Company</td>\n",
       "      <td>2015</td>\n",
       "      <td>1</td>\n",
       "    </tr>\n",
       "    <tr>\n",
       "      <th>102</th>\n",
       "      <td>103</td>\n",
       "      <td>14162</td>\n",
       "      <td>836</td>\n",
       "      <td>7</td>\n",
       "      <td>1519837702</td>\n",
       "      <td>66.66</td>\n",
       "      <td>DEFAULT</td>\n",
       "      <td>2018/3/1</td>\n",
       "      <td>Australian Private Company</td>\n",
       "      <td>2015</td>\n",
       "      <td>1</td>\n",
       "    </tr>\n",
       "    <tr>\n",
       "      <th>109</th>\n",
       "      <td>110</td>\n",
       "      <td>15232</td>\n",
       "      <td>836</td>\n",
       "      <td>7</td>\n",
       "      <td>1521392903</td>\n",
       "      <td>100.00</td>\n",
       "      <td>DEFAULT</td>\n",
       "      <td>2018/3/19</td>\n",
       "      <td>Australian Private Company</td>\n",
       "      <td>2015</td>\n",
       "      <td>1</td>\n",
       "    </tr>\n",
       "    <tr>\n",
       "      <th>110</th>\n",
       "      <td>111</td>\n",
       "      <td>14161</td>\n",
       "      <td>836</td>\n",
       "      <td>7</td>\n",
       "      <td>1519837702</td>\n",
       "      <td>416.67</td>\n",
       "      <td>DEFAULT</td>\n",
       "      <td>2018/3/1</td>\n",
       "      <td>Australian Private Company</td>\n",
       "      <td>2015</td>\n",
       "      <td>1</td>\n",
       "    </tr>\n",
       "    <tr>\n",
       "      <th>...</th>\n",
       "      <td>...</td>\n",
       "      <td>...</td>\n",
       "      <td>...</td>\n",
       "      <td>...</td>\n",
       "      <td>...</td>\n",
       "      <td>...</td>\n",
       "      <td>...</td>\n",
       "      <td>...</td>\n",
       "      <td>...</td>\n",
       "      <td>...</td>\n",
       "      <td>...</td>\n",
       "    </tr>\n",
       "    <tr>\n",
       "      <th>25426</th>\n",
       "      <td>25427</td>\n",
       "      <td>23542</td>\n",
       "      <td>1422</td>\n",
       "      <td>1252</td>\n",
       "      <td>1530641325</td>\n",
       "      <td>4166.67</td>\n",
       "      <td>DEFAULT</td>\n",
       "      <td>2018/7/4</td>\n",
       "      <td>Australian Private Company</td>\n",
       "      <td>2014</td>\n",
       "      <td>1</td>\n",
       "    </tr>\n",
       "    <tr>\n",
       "      <th>25434</th>\n",
       "      <td>25435</td>\n",
       "      <td>24707</td>\n",
       "      <td>1462</td>\n",
       "      <td>1254</td>\n",
       "      <td>1531764560</td>\n",
       "      <td>400.00</td>\n",
       "      <td>DEFAULT</td>\n",
       "      <td>2018/7/17</td>\n",
       "      <td>Australian Private Company</td>\n",
       "      <td>2011</td>\n",
       "      <td>1</td>\n",
       "    </tr>\n",
       "    <tr>\n",
       "      <th>25437</th>\n",
       "      <td>25438</td>\n",
       "      <td>24706</td>\n",
       "      <td>1462</td>\n",
       "      <td>1254</td>\n",
       "      <td>1531764559</td>\n",
       "      <td>2500.00</td>\n",
       "      <td>DEFAULT</td>\n",
       "      <td>2018/7/17</td>\n",
       "      <td>Australian Private Company</td>\n",
       "      <td>2011</td>\n",
       "      <td>1</td>\n",
       "    </tr>\n",
       "    <tr>\n",
       "      <th>25439</th>\n",
       "      <td>25440</td>\n",
       "      <td>25498</td>\n",
       "      <td>1462</td>\n",
       "      <td>1254</td>\n",
       "      <td>1532455688</td>\n",
       "      <td>400.00</td>\n",
       "      <td>DEFAULT</td>\n",
       "      <td>2018/7/25</td>\n",
       "      <td>Australian Private Company</td>\n",
       "      <td>2011</td>\n",
       "      <td>1</td>\n",
       "    </tr>\n",
       "    <tr>\n",
       "      <th>25442</th>\n",
       "      <td>25443</td>\n",
       "      <td>25497</td>\n",
       "      <td>1462</td>\n",
       "      <td>1254</td>\n",
       "      <td>1532455688</td>\n",
       "      <td>2500.00</td>\n",
       "      <td>DEFAULT</td>\n",
       "      <td>2018/7/25</td>\n",
       "      <td>Australian Private Company</td>\n",
       "      <td>2011</td>\n",
       "      <td>1</td>\n",
       "    </tr>\n",
       "  </tbody>\n",
       "</table>\n",
       "<p>2219 rows × 11 columns</p>\n",
       "</div>"
      ],
      "text/plain": [
       "       Number  transaction_id  contract_id  client_id  transaction_date  \\\n",
       "98         99           15231          836          7        1521392903   \n",
       "100       101           14979          836          7        1520960902   \n",
       "102       103           14162          836          7        1519837702   \n",
       "109       110           15232          836          7        1521392903   \n",
       "110       111           14161          836          7        1519837702   \n",
       "...       ...             ...          ...        ...               ...   \n",
       "25426   25427           23542         1422       1252        1530641325   \n",
       "25434   25435           24707         1462       1254        1531764560   \n",
       "25437   25438           24706         1462       1254        1531764559   \n",
       "25439   25440           25498         1462       1254        1532455688   \n",
       "25442   25443           25497         1462       1254        1532455688   \n",
       "\n",
       "       payment_amt payment_code       date                 entity_type  \\\n",
       "98           50.00      DEFAULT  2018/3/19  Australian Private Company   \n",
       "100          66.66      DEFAULT  2018/3/14  Australian Private Company   \n",
       "102          66.66      DEFAULT   2018/3/1  Australian Private Company   \n",
       "109         100.00      DEFAULT  2018/3/19  Australian Private Company   \n",
       "110         416.67      DEFAULT   2018/3/1  Australian Private Company   \n",
       "...            ...          ...        ...                         ...   \n",
       "25426      4166.67      DEFAULT   2018/7/4  Australian Private Company   \n",
       "25434       400.00      DEFAULT  2018/7/17  Australian Private Company   \n",
       "25437      2500.00      DEFAULT  2018/7/17  Australian Private Company   \n",
       "25439       400.00      DEFAULT  2018/7/25  Australian Private Company   \n",
       "25442      2500.00      DEFAULT  2018/7/25  Australian Private Company   \n",
       "\n",
       "       entity_year_established  payment__code  \n",
       "98                        2015              1  \n",
       "100                       2015              1  \n",
       "102                       2015              1  \n",
       "109                       2015              1  \n",
       "110                       2015              1  \n",
       "...                        ...            ...  \n",
       "25426                     2014              1  \n",
       "25434                     2011              1  \n",
       "25437                     2011              1  \n",
       "25439                     2011              1  \n",
       "25442                     2011              1  \n",
       "\n",
       "[2219 rows x 11 columns]"
      ]
     },
     "execution_count": 68,
     "metadata": {},
     "output_type": "execute_result"
    }
   ],
   "source": [
    "df41=df.loc[df['payment_code']=='DEFAULT']\n",
    "df42=df.loc[df['payment_code']=='PAYMENT']\n",
    "df41"
   ]
  },
  {
   "cell_type": "code",
   "execution_count": 82,
   "metadata": {},
   "outputs": [
    {
     "data": {
      "text/html": [
       "<div>\n",
       "<style scoped>\n",
       "    .dataframe tbody tr th:only-of-type {\n",
       "        vertical-align: middle;\n",
       "    }\n",
       "\n",
       "    .dataframe tbody tr th {\n",
       "        vertical-align: top;\n",
       "    }\n",
       "\n",
       "    .dataframe thead th {\n",
       "        text-align: right;\n",
       "    }\n",
       "</style>\n",
       "<table border=\"1\" class=\"dataframe\">\n",
       "  <thead>\n",
       "    <tr style=\"text-align: right;\">\n",
       "      <th></th>\n",
       "      <th>PAYMENT</th>\n",
       "      <th>DEFAULT</th>\n",
       "      <th>DEFAULT rate</th>\n",
       "    </tr>\n",
       "    <tr>\n",
       "      <th>entity_year_established</th>\n",
       "      <th></th>\n",
       "      <th></th>\n",
       "      <th></th>\n",
       "    </tr>\n",
       "  </thead>\n",
       "  <tbody>\n",
       "    <tr>\n",
       "      <th>(1999, 2002]</th>\n",
       "      <td>4228</td>\n",
       "      <td>279</td>\n",
       "      <td>0.065989</td>\n",
       "    </tr>\n",
       "    <tr>\n",
       "      <th>(2002, 2006]</th>\n",
       "      <td>3199</td>\n",
       "      <td>163</td>\n",
       "      <td>0.050953</td>\n",
       "    </tr>\n",
       "    <tr>\n",
       "      <th>(2006, 2010]</th>\n",
       "      <td>4535</td>\n",
       "      <td>413</td>\n",
       "      <td>0.091069</td>\n",
       "    </tr>\n",
       "    <tr>\n",
       "      <th>(2010, 2014]</th>\n",
       "      <td>7828</td>\n",
       "      <td>783</td>\n",
       "      <td>0.100026</td>\n",
       "    </tr>\n",
       "    <tr>\n",
       "      <th>(2014, 2018]</th>\n",
       "      <td>5135</td>\n",
       "      <td>536</td>\n",
       "      <td>0.104382</td>\n",
       "    </tr>\n",
       "  </tbody>\n",
       "</table>\n",
       "</div>"
      ],
      "text/plain": [
       "                         PAYMENT  DEFAULT  DEFAULT rate\n",
       "entity_year_established                                \n",
       "(1999, 2002]                4228      279      0.065989\n",
       "(2002, 2006]                3199      163      0.050953\n",
       "(2006, 2010]                4535      413      0.091069\n",
       "(2010, 2014]                7828      783      0.100026\n",
       "(2014, 2018]                5135      536      0.104382"
      ]
     },
     "execution_count": 82,
     "metadata": {},
     "output_type": "execute_result"
    }
   ],
   "source": [
    "df1=df\n",
    "cut_bins=[1999,2002,2006,2010,2014,2018]\n",
    "age_cut=pd.cut(df1[\"entity_year_established\"],cut_bins)\n",
    "age_cut_grouped=df1[\"payment__code\"].groupby(age_cut).count()\n",
    "age_cut_grouped1=df1[\"payment__code\"].groupby(age_cut).sum()\n",
    "df2=pd.merge(pd.DataFrame(age_cut_grouped), pd.DataFrame(age_cut_grouped1),right_index=True,left_index=True)\n",
    "df2.rename(columns={\"payment__code_x\":\"PAYMENT\",\"payment__code_y\":\"DEFAULT\"},inplace=True)\n",
    "df2.insert(2,\"DEFAULT rate\",df2[\"DEFAULT\"]/df2[\"PAYMENT\"])\n",
    "df2"
   ]
  },
  {
   "cell_type": "code",
   "execution_count": 83,
   "metadata": {},
   "outputs": [
    {
     "data": {
      "text/plain": [
       "(array([   0., 1000., 2000., 3000., 4000., 5000., 6000., 7000., 8000.,\n",
       "        9000.]), <a list of 10 Text yticklabel objects>)"
      ]
     },
     "execution_count": 83,
     "metadata": {},
     "output_type": "execute_result"
    },
    {
     "data": {
      "image/png": "[encoded data removed]",
      "text/plain": [
       "<Figure size 432x288 with 1 Axes>"
      ]
     },
     "metadata": {
      "needs_background": "light"
     },
     "output_type": "display_data"
    }
   ],
   "source": [
    "ax1=df2[[\"PAYMENT\",\"DEFAULT\"]].plot.bar()\n",
    "ax1.set_xticklabels(df2.index,rotation=25)\n",
    "ax1.set_ylabel(\"Number of PAYMENT\")\n",
    "ax1.set_title(\"Default Number VS Establish Year\")\n",
    "plt.xticks(fontsize=8)\n",
    "plt.yticks(fontsize=10)"
   ]
  },
  {
   "cell_type": "code",
   "execution_count": 87,
   "metadata": {},
   "outputs": [
    {
     "data": {
      "text/plain": [
       "(array([0.04, 0.05, 0.06, 0.07, 0.08, 0.09, 0.1 , 0.11]),\n",
       " <a list of 8 Text yticklabel objects>)"
      ]
     },
     "execution_count": 87,
     "metadata": {},
     "output_type": "execute_result"
    },
    {
     "data": {
      "image/png": "[encoded data removed]",
      "text/plain": [
       "<Figure size 432x288 with 1 Axes>"
      ]
     },
     "metadata": {
      "needs_background": "light"
     },
     "output_type": "display_data"
    }
   ],
   "source": [
    "ax11=df2[\"DEFAULT rate\"].plot()\n",
    "ax11.set_xticks([0,1,2,3,4])\n",
    "ax11.set_xticklabels(df2.index,rotation=25)\n",
    "ax11.set_ylabel(\"Rate\")\n",
    "ax11.set_title(\"Default Rate VS Establish Year\")\n",
    "plt.xticks(fontsize=8)\n",
    "plt.yticks(fontsize=10)"
   ]
  },
  {
   "cell_type": "code",
   "execution_count": 85,
   "metadata": {},
   "outputs": [
    {
     "data": {
      "text/html": [
       "<div>\n",
       "<style scoped>\n",
       "    .dataframe tbody tr th:only-of-type {\n",
       "        vertical-align: middle;\n",
       "    }\n",
       "\n",
       "    .dataframe tbody tr th {\n",
       "        vertical-align: top;\n",
       "    }\n",
       "\n",
       "    .dataframe thead th {\n",
       "        text-align: right;\n",
       "    }\n",
       "</style>\n",
       "<table border=\"1\" class=\"dataframe\">\n",
       "  <thead>\n",
       "    <tr style=\"text-align: right;\">\n",
       "      <th></th>\n",
       "      <th>Default Number</th>\n",
       "      <th>Default Money</th>\n",
       "      <th>Payment Number</th>\n",
       "      <th>Payment Money</th>\n",
       "      <th>DEFAULT ratio</th>\n",
       "    </tr>\n",
       "    <tr>\n",
       "      <th>entity_year_established</th>\n",
       "      <th></th>\n",
       "      <th></th>\n",
       "      <th></th>\n",
       "      <th></th>\n",
       "      <th></th>\n",
       "    </tr>\n",
       "  </thead>\n",
       "  <tbody>\n",
       "    <tr>\n",
       "      <th>(1999, 2002]</th>\n",
       "      <td>279</td>\n",
       "      <td>228801.11</td>\n",
       "      <td>4228</td>\n",
       "      <td>6065026.60</td>\n",
       "      <td>0.037725</td>\n",
       "    </tr>\n",
       "    <tr>\n",
       "      <th>(2002, 2006]</th>\n",
       "      <td>163</td>\n",
       "      <td>225179.65</td>\n",
       "      <td>3199</td>\n",
       "      <td>4630598.77</td>\n",
       "      <td>0.048629</td>\n",
       "    </tr>\n",
       "    <tr>\n",
       "      <th>(2006, 2010]</th>\n",
       "      <td>413</td>\n",
       "      <td>245704.66</td>\n",
       "      <td>4535</td>\n",
       "      <td>5070636.31</td>\n",
       "      <td>0.048456</td>\n",
       "    </tr>\n",
       "    <tr>\n",
       "      <th>(2010, 2014]</th>\n",
       "      <td>783</td>\n",
       "      <td>445716.73</td>\n",
       "      <td>7828</td>\n",
       "      <td>8704429.21</td>\n",
       "      <td>0.051206</td>\n",
       "    </tr>\n",
       "    <tr>\n",
       "      <th>(2014, 2018]</th>\n",
       "      <td>536</td>\n",
       "      <td>328504.93</td>\n",
       "      <td>5135</td>\n",
       "      <td>5998845.98</td>\n",
       "      <td>0.054761</td>\n",
       "    </tr>\n",
       "  </tbody>\n",
       "</table>\n",
       "</div>"
      ],
      "text/plain": [
       "                         Default Number  Default Money  Payment Number  \\\n",
       "entity_year_established                                                  \n",
       "(1999, 2002]                        279      228801.11            4228   \n",
       "(2002, 2006]                        163      225179.65            3199   \n",
       "(2006, 2010]                        413      245704.66            4535   \n",
       "(2010, 2014]                        783      445716.73            7828   \n",
       "(2014, 2018]                        536      328504.93            5135   \n",
       "\n",
       "                         Payment Money  DEFAULT ratio  \n",
       "entity_year_established                                \n",
       "(1999, 2002]                6065026.60       0.037725  \n",
       "(2002, 2006]                4630598.77       0.048629  \n",
       "(2006, 2010]                5070636.31       0.048456  \n",
       "(2010, 2014]                8704429.21       0.051206  \n",
       "(2014, 2018]                5998845.98       0.054761  "
      ]
     },
     "execution_count": 85,
     "metadata": {},
     "output_type": "execute_result"
    }
   ],
   "source": [
    "cut_bins=[1999,2002,2006,2010,2014,2018]\n",
    "age_cut2=pd.cut(df41[\"entity_year_established\"],cut_bins)\n",
    "age_cut_grouped2=df41[\"payment_amt\"].groupby(age_cut2).count()\n",
    "age_cut_grouped21=df41[\"payment_amt\"].groupby(age_cut2).sum()\n",
    "df7=pd.merge(pd.DataFrame(age_cut_grouped2), pd.DataFrame(age_cut_grouped21),right_index=True,left_index=True)\n",
    "df7.rename(columns={\"payment_amt_x\":\"Default Number\",\"payment_amt_y\":\"Default Money\"},inplace=True)\n",
    "\n",
    "age_cut3=pd.cut(df[\"entity_year_established\"],cut_bins)\n",
    "age_cut_grouped3=df[\"payment_amt\"].groupby(age_cut3).count()\n",
    "age_cut_grouped31=df[\"payment_amt\"].groupby(age_cut3).sum()\n",
    "df71=pd.merge(pd.DataFrame(age_cut_grouped3), pd.DataFrame(age_cut_grouped31),right_index=True,left_index=True)\n",
    "df71.rename(columns={\"payment_amt_x\":\"Payment Number\",\"payment_amt_y\":\"Payment Money\"},inplace=True)\n",
    "\n",
    "df72=pd.merge(pd.DataFrame(df7), pd.DataFrame(df71),right_index=True,left_index=True)\n",
    "df72.insert(4,\"DEFAULT ratio\",df72[\"Default Money\"]/df72[\"Payment Money\"])\n",
    "df72"
   ]
  },
  {
   "cell_type": "code",
   "execution_count": 91,
   "metadata": {},
   "outputs": [
    {
     "data": {
      "text/plain": [
       "(array([       0.,  2000000.,  4000000.,  6000000.,  8000000., 10000000.]),\n",
       " <a list of 6 Text yticklabel objects>)"
      ]
     },
     "execution_count": 91,
     "metadata": {},
     "output_type": "execute_result"
    },
    {
     "data": {
      "image/png": "[encoded data removed]",
      "text/plain": [
       "<Figure size 432x288 with 1 Axes>"
      ]
     },
     "metadata": {
      "needs_background": "light"
     },
     "output_type": "display_data"
    }
   ],
   "source": [
    "ax12=df72[[\"Default Money\",\"Payment Money\"]].plot.bar()\n",
    "ax12.set_xticklabels(df72.index,rotation=25)\n",
    "ax12.set_ylabel(\"Number of Money\")\n",
    "ax12.set_title(\"Total Default Money VS Establish Year\")\n",
    "plt.xticks(fontsize=8)\n",
    "plt.yticks(fontsize=10)"
   ]
  },
  {
   "cell_type": "code",
   "execution_count": 93,
   "metadata": {},
   "outputs": [
    {
     "data": {
      "text/plain": [
       "(array([0.035 , 0.0375, 0.04  , 0.0425, 0.045 , 0.0475, 0.05  , 0.0525,\n",
       "        0.055 , 0.0575]), <a list of 10 Text yticklabel objects>)"
      ]
     },
     "execution_count": 93,
     "metadata": {},
     "output_type": "execute_result"
    },
    {
     "data": {
      "image/png": "[encoded data removed]",
      "text/plain": [
       "<Figure size 432x288 with 1 Axes>"
      ]
     },
     "metadata": {
      "needs_background": "light"
     },
     "output_type": "display_data"
    }
   ],
   "source": [
    "ax13=df72[\"DEFAULT ratio\"].plot()\n",
    "ax13.set_xticks([0,1,2,3,4])\n",
    "ax13.set_xticklabels(df72.index,rotation=25)\n",
    "ax13.set_ylabel(\"Ratio\")\n",
    "ax13.set_title(\"Default Ratio VS Establish Year\")\n",
    "plt.xticks(fontsize=8)\n",
    "plt.yticks(fontsize=10)"
   ]
  },
  {
   "cell_type": "code",
   "execution_count": null,
   "metadata": {},
   "outputs": [],
   "source": []
  },
  {
   "cell_type": "code",
   "execution_count": null,
   "metadata": {},
   "outputs": [],
   "source": [
    "# The analysis between entity_type and Default"
   ]
  },
  {
   "cell_type": "code",
   "execution_count": 115,
   "metadata": {},
   "outputs": [
    {
     "data": {
      "text/html": [
       "<div>\n",
       "<style scoped>\n",
       "    .dataframe tbody tr th:only-of-type {\n",
       "        vertical-align: middle;\n",
       "    }\n",
       "\n",
       "    .dataframe tbody tr th {\n",
       "        vertical-align: top;\n",
       "    }\n",
       "\n",
       "    .dataframe thead th {\n",
       "        text-align: right;\n",
       "    }\n",
       "</style>\n",
       "<table border=\"1\" class=\"dataframe\">\n",
       "  <thead>\n",
       "    <tr style=\"text-align: right;\">\n",
       "      <th></th>\n",
       "      <th>DEFAULT</th>\n",
       "      <th>Total Payment tried</th>\n",
       "      <th>Total Payment</th>\n",
       "      <th>Total DEFAULT</th>\n",
       "      <th>DEFAULT rate</th>\n",
       "      <th>DEFAULT ratio</th>\n",
       "    </tr>\n",
       "    <tr>\n",
       "      <th>entity_type</th>\n",
       "      <th></th>\n",
       "      <th></th>\n",
       "      <th></th>\n",
       "      <th></th>\n",
       "      <th></th>\n",
       "      <th></th>\n",
       "    </tr>\n",
       "  </thead>\n",
       "  <tbody>\n",
       "    <tr>\n",
       "      <th>Australian Private Company</th>\n",
       "      <td>1217</td>\n",
       "      <td>14827</td>\n",
       "      <td>22368301.54</td>\n",
       "      <td>956493.07</td>\n",
       "      <td>0.082080</td>\n",
       "      <td>0.042761</td>\n",
       "    </tr>\n",
       "    <tr>\n",
       "      <th>Australian Public Company</th>\n",
       "      <td>16</td>\n",
       "      <td>128</td>\n",
       "      <td>118287.48</td>\n",
       "      <td>7770.82</td>\n",
       "      <td>0.125000</td>\n",
       "      <td>0.065694</td>\n",
       "    </tr>\n",
       "    <tr>\n",
       "      <th>Discretionary Investment Trust</th>\n",
       "      <td>23</td>\n",
       "      <td>124</td>\n",
       "      <td>349654.80</td>\n",
       "      <td>113763.57</td>\n",
       "      <td>0.185484</td>\n",
       "      <td>0.325360</td>\n",
       "    </tr>\n",
       "    <tr>\n",
       "      <th>Discretionary Trading Trust</th>\n",
       "      <td>21</td>\n",
       "      <td>187</td>\n",
       "      <td>364187.56</td>\n",
       "      <td>18431.11</td>\n",
       "      <td>0.112299</td>\n",
       "      <td>0.050609</td>\n",
       "    </tr>\n",
       "    <tr>\n",
       "      <th>Family Partnership</th>\n",
       "      <td>33</td>\n",
       "      <td>736</td>\n",
       "      <td>678141.51</td>\n",
       "      <td>11268.34</td>\n",
       "      <td>0.044837</td>\n",
       "      <td>0.016617</td>\n",
       "    </tr>\n",
       "    <tr>\n",
       "      <th>Hybrid Trust</th>\n",
       "      <td>2</td>\n",
       "      <td>32</td>\n",
       "      <td>21374.96</td>\n",
       "      <td>900.00</td>\n",
       "      <td>0.062500</td>\n",
       "      <td>0.042105</td>\n",
       "    </tr>\n",
       "    <tr>\n",
       "      <th>Individual/Sole Trader</th>\n",
       "      <td>901</td>\n",
       "      <td>9354</td>\n",
       "      <td>7053294.61</td>\n",
       "      <td>385726.14</td>\n",
       "      <td>0.096322</td>\n",
       "      <td>0.054687</td>\n",
       "    </tr>\n",
       "    <tr>\n",
       "      <th>Other Partnership</th>\n",
       "      <td>6</td>\n",
       "      <td>135</td>\n",
       "      <td>78578.32</td>\n",
       "      <td>2525.93</td>\n",
       "      <td>0.044444</td>\n",
       "      <td>0.032145</td>\n",
       "    </tr>\n",
       "  </tbody>\n",
       "</table>\n",
       "</div>"
      ],
      "text/plain": [
       "                                DEFAULT  Total Payment tried  Total Payment  \\\n",
       "entity_type                                                                   \n",
       "Australian Private Company         1217                14827    22368301.54   \n",
       "Australian Public Company            16                  128      118287.48   \n",
       "Discretionary Investment Trust       23                  124      349654.80   \n",
       "Discretionary Trading Trust          21                  187      364187.56   \n",
       "Family Partnership                   33                  736      678141.51   \n",
       "Hybrid Trust                          2                   32       21374.96   \n",
       "Individual/Sole Trader              901                 9354     7053294.61   \n",
       "Other Partnership                     6                  135       78578.32   \n",
       "\n",
       "                                Total DEFAULT  DEFAULT rate  DEFAULT ratio  \n",
       "entity_type                                                                 \n",
       "Australian Private Company          956493.07      0.082080       0.042761  \n",
       "Australian Public Company             7770.82      0.125000       0.065694  \n",
       "Discretionary Investment Trust      113763.57      0.185484       0.325360  \n",
       "Discretionary Trading Trust          18431.11      0.112299       0.050609  \n",
       "Family Partnership                   11268.34      0.044837       0.016617  \n",
       "Hybrid Trust                           900.00      0.062500       0.042105  \n",
       "Individual/Sole Trader              385726.14      0.096322       0.054687  \n",
       "Other Partnership                     2525.93      0.044444       0.032145  "
      ]
     },
     "execution_count": 115,
     "metadata": {},
     "output_type": "execute_result"
    }
   ],
   "source": [
    "entity_type_class=df.groupby('entity_type').sum()\n",
    "entity_type_class1=df.groupby('entity_type').count()\n",
    "entity_type_class2=df41.groupby('entity_type').sum()\n",
    "df3=pd.merge(pd.DataFrame(entity_type_class['payment__code']), pd.DataFrame(entity_type_class1['Number']),right_index=True,left_index=True)\n",
    "df3=pd.merge(df3, pd.DataFrame(entity_type_class['payment_amt']),right_index=True,left_index=True)\n",
    "df3=pd.merge(df3, pd.DataFrame(entity_type_class2['payment_amt']),right_index=True,left_index=True)\n",
    "df3.rename(columns={\"payment__code\":\"DEFAULT\",\"Number\":\"Total Payment tried\",\"payment_amt_x\":\"Total Payment\",\"payment_amt_y\":\"Total DEFAULT\"},inplace=True)\n",
    "df3.insert(4,\"DEFAULT rate\",df3[\"DEFAULT\"]/df3[\"Total Payment tried\"])\n",
    "df3.insert(5,\"DEFAULT ratio\",df3[\"Total DEFAULT\"]/df3[\"Total Payment\"])\n",
    "df3"
   ]
  },
  {
   "cell_type": "code",
   "execution_count": 14,
   "metadata": {},
   "outputs": [],
   "source": [
    "#ax2=df3[[\"DEFAULT\"]].plot.bar()\n",
    "#ax1.set_xticklabels(df3.index,rotation=15)\n",
    "#ax1.set_ylabel(\"Total Payment tried\")\n",
    "#ax1.set_title(\"Defualt Number VS Establish Year\")"
   ]
  },
  {
   "cell_type": "code",
   "execution_count": 15,
   "metadata": {},
   "outputs": [],
   "source": [
    "#plt.figure(figsize=(6,9))\n",
    "#fig = plt.figure()\n",
    "#plt.pie(df3[\"DEFAULT\"],labels=df3.index,autopct='%1.2f%%') \n",
    "#plt.title(\"Pie chart\")\n",
    "#plt.show()  "
   ]
  },
  {
   "cell_type": "code",
   "execution_count": 118,
   "metadata": {},
   "outputs": [
    {
     "data": {
      "text/plain": [
       "(array([0.  , 0.05, 0.1 , 0.15, 0.2 , 0.25, 0.3 , 0.35]),\n",
       " <a list of 8 Text yticklabel objects>)"
      ]
     },
     "execution_count": 118,
     "metadata": {},
     "output_type": "execute_result"
    },
    {
     "data": {
      "image/png": "[encoded data removed]",
      "text/plain": [
       "<Figure size 432x288 with 1 Axes>"
      ]
     },
     "metadata": {
      "needs_background": "light"
     },
     "output_type": "display_data"
    }
   ],
   "source": [
    "ax22=df3[[\"DEFAULT rate\",\"DEFAULT ratio\"]].plot.bar()\n",
    "ax22.set_xticklabels(df3.index,rotation=90)\n",
    "ax22.set_ylabel(\"Percentage\")\n",
    "ax22.set_title(\"Default VS Entity Type\")\n",
    "plt.xticks(fontsize=8)\n",
    "plt.yticks(fontsize=10)"
   ]
  },
  {
   "cell_type": "code",
   "execution_count": 67,
   "metadata": {},
   "outputs": [],
   "source": []
  },
  {
   "cell_type": "code",
   "execution_count": null,
   "metadata": {},
   "outputs": [],
   "source": [
    "# The analysis between payment_amt and Default"
   ]
  },
  {
   "cell_type": "code",
   "execution_count": 143,
   "metadata": {},
   "outputs": [],
   "source": [
    "cut_bins=[0,5000,10000,15000,20000,25000,30000,35000,40000,45000,200000]\n",
    "payment_amt_cut=pd.cut(df41['payment_amt'],cut_bins)\n",
    "payment_amt_cut_grouped=df41['payment_amt'].groupby(payment_amt_cut).count()\n",
    "payment_amt_cut_grouped1=df41['payment_amt'].groupby(payment_amt_cut).sum()\n",
    "df5=pd.merge(pd.DataFrame(payment_amt_cut_grouped), pd.DataFrame(payment_amt_cut_grouped1),right_index=True,left_index=True)\n",
    "df5.rename(columns={\"payment_amt_x\":\"DEFAULT\",\"payment_amt_y\":\"DEFAULT Money\"},inplace=True)\n",
    "#df5"
   ]
  },
  {
   "cell_type": "code",
   "execution_count": 148,
   "metadata": {},
   "outputs": [
    {
     "data": {
      "text/html": [
       "<div>\n",
       "<style scoped>\n",
       "    .dataframe tbody tr th:only-of-type {\n",
       "        vertical-align: middle;\n",
       "    }\n",
       "\n",
       "    .dataframe tbody tr th {\n",
       "        vertical-align: top;\n",
       "    }\n",
       "\n",
       "    .dataframe thead th {\n",
       "        text-align: right;\n",
       "    }\n",
       "</style>\n",
       "<table border=\"1\" class=\"dataframe\">\n",
       "  <thead>\n",
       "    <tr style=\"text-align: right;\">\n",
       "      <th></th>\n",
       "      <th>DEFAULT</th>\n",
       "      <th>DEFAULT Money</th>\n",
       "      <th>Payment</th>\n",
       "      <th>Payment Money</th>\n",
       "      <th>DEFAULT ratio</th>\n",
       "    </tr>\n",
       "    <tr>\n",
       "      <th>payment_amt</th>\n",
       "      <th></th>\n",
       "      <th></th>\n",
       "      <th></th>\n",
       "      <th></th>\n",
       "      <th></th>\n",
       "    </tr>\n",
       "  </thead>\n",
       "  <tbody>\n",
       "    <tr>\n",
       "      <th>(0, 5000]</th>\n",
       "      <td>2196</td>\n",
       "      <td>1094882.99</td>\n",
       "      <td>24480</td>\n",
       "      <td>1.313063e+07</td>\n",
       "      <td>0.083384</td>\n",
       "    </tr>\n",
       "    <tr>\n",
       "      <th>(5000, 10000]</th>\n",
       "      <td>6</td>\n",
       "      <td>44016.74</td>\n",
       "      <td>327</td>\n",
       "      <td>2.038711e+06</td>\n",
       "      <td>0.021590</td>\n",
       "    </tr>\n",
       "    <tr>\n",
       "      <th>(10000, 15000]</th>\n",
       "      <td>4</td>\n",
       "      <td>54372.98</td>\n",
       "      <td>248</td>\n",
       "      <td>2.690455e+06</td>\n",
       "      <td>0.020210</td>\n",
       "    </tr>\n",
       "    <tr>\n",
       "      <th>(15000, 20000]</th>\n",
       "      <td>11</td>\n",
       "      <td>213606.27</td>\n",
       "      <td>71</td>\n",
       "      <td>1.201862e+06</td>\n",
       "      <td>0.177729</td>\n",
       "    </tr>\n",
       "    <tr>\n",
       "      <th>(20000, 25000]</th>\n",
       "      <td>0</td>\n",
       "      <td>0.00</td>\n",
       "      <td>238</td>\n",
       "      <td>4.936086e+06</td>\n",
       "      <td>0.000000</td>\n",
       "    </tr>\n",
       "    <tr>\n",
       "      <th>(25000, 30000]</th>\n",
       "      <td>0</td>\n",
       "      <td>0.00</td>\n",
       "      <td>21</td>\n",
       "      <td>5.455191e+05</td>\n",
       "      <td>0.000000</td>\n",
       "    </tr>\n",
       "    <tr>\n",
       "      <th>(30000, 35000]</th>\n",
       "      <td>0</td>\n",
       "      <td>0.00</td>\n",
       "      <td>98</td>\n",
       "      <td>2.947600e+06</td>\n",
       "      <td>0.000000</td>\n",
       "    </tr>\n",
       "    <tr>\n",
       "      <th>(35000, 40000]</th>\n",
       "      <td>1</td>\n",
       "      <td>40000.00</td>\n",
       "      <td>8</td>\n",
       "      <td>3.008692e+05</td>\n",
       "      <td>0.132948</td>\n",
       "    </tr>\n",
       "    <tr>\n",
       "      <th>(40000, 45000]</th>\n",
       "      <td>0</td>\n",
       "      <td>0.00</td>\n",
       "      <td>32</td>\n",
       "      <td>1.281599e+06</td>\n",
       "      <td>0.000000</td>\n",
       "    </tr>\n",
       "  </tbody>\n",
       "</table>\n",
       "</div>"
      ],
      "text/plain": [
       "                DEFAULT  DEFAULT Money  Payment  Payment Money  DEFAULT ratio\n",
       "payment_amt                                                                  \n",
       "(0, 5000]          2196     1094882.99    24480   1.313063e+07       0.083384\n",
       "(5000, 10000]         6       44016.74      327   2.038711e+06       0.021590\n",
       "(10000, 15000]        4       54372.98      248   2.690455e+06       0.020210\n",
       "(15000, 20000]       11      213606.27       71   1.201862e+06       0.177729\n",
       "(20000, 25000]        0           0.00      238   4.936086e+06       0.000000\n",
       "(25000, 30000]        0           0.00       21   5.455191e+05       0.000000\n",
       "(30000, 35000]        0           0.00       98   2.947600e+06       0.000000\n",
       "(35000, 40000]        1       40000.00        8   3.008692e+05       0.132948\n",
       "(40000, 45000]        0           0.00       32   1.281599e+06       0.000000"
      ]
     },
     "execution_count": 148,
     "metadata": {},
     "output_type": "execute_result"
    }
   ],
   "source": [
    "cut_bins=[0,5000,10000,15000,20000,25000,30000,35000,40000,45000,200001]\n",
    "payment_amt_cut1=pd.cut(df['payment_amt'],cut_bins)\n",
    "payment_amt_cut_grouped1=df['payment_amt'].groupby(payment_amt_cut1).count()\n",
    "payment_amt_cut_grouped2=df['payment_amt'].groupby(payment_amt_cut1).sum()\n",
    "df8=pd.merge(pd.DataFrame(payment_amt_cut_grouped1), pd.DataFrame(payment_amt_cut_grouped2),right_index=True,left_index=True)\n",
    "df8.rename(columns={\"payment_amt_x\":\"Payment\",\"payment_amt_y\":\"Payment Money\"},inplace=True)\n",
    "#df8\n",
    "df51=pd.merge(df5, df8,right_index=True,left_index=True)\n",
    "df51.insert(4,\"DEFAULT ratio\",df51[\"DEFAULT Money\"]/df51[\"Payment Money\"])\n",
    "df51"
   ]
  },
  {
   "cell_type": "code",
   "execution_count": 145,
   "metadata": {},
   "outputs": [
    {
     "data": {
      "text/plain": [
       "(array([   0.,  500., 1000., 1500., 2000., 2500.]),\n",
       " <a list of 6 Text yticklabel objects>)"
      ]
     },
     "execution_count": 145,
     "metadata": {},
     "output_type": "execute_result"
    },
    {
     "data": {
      "image/png": "[encoded data removed]",
      "text/plain": [
       "<Figure size 432x288 with 1 Axes>"
      ]
     },
     "metadata": {
      "needs_background": "light"
     },
     "output_type": "display_data"
    }
   ],
   "source": [
    "ax31=df51[[\"DEFAULT\"]].plot.bar()\n",
    "ax31.set_xticklabels(df51.index,rotation=55)\n",
    "ax31.set_ylabel(\"Number of Defualt\")\n",
    "ax31.set_title(\"Defualt Number VS payment amt\")\n",
    "plt.xticks(fontsize=8)\n",
    "plt.yticks(fontsize=10)"
   ]
  },
  {
   "cell_type": "code",
   "execution_count": 27,
   "metadata": {},
   "outputs": [
    {
     "data": {
      "text/plain": [
       "(array([      0.,  200000.,  400000.,  600000.,  800000., 1000000.,\n",
       "        1200000.]), <a list of 7 Text yticklabel objects>)"
      ]
     },
     "execution_count": 27,
     "metadata": {},
     "output_type": "execute_result"
    },
    {
     "data": {
      "text/plain": [
       "<Figure size 1440x720 with 0 Axes>"
      ]
     },
     "metadata": {},
     "output_type": "display_data"
    },
    {
     "data": {
      "image/png": "[encoded data removed]",
      "text/plain": [
       "<Figure size 432x288 with 1 Axes>"
      ]
     },
     "metadata": {
      "needs_background": "light"
     },
     "output_type": "display_data"
    }
   ],
   "source": [
    "plt.figure(figsize=(20,10))\n",
    "ax32=df5[[\"Money\"]].plot.bar()\n",
    "ax32.set_xticklabels(df5.index,rotation=45)\n",
    "ax32.set_ylabel(\"Money\")\n",
    "ax32.set_title(\"Total Money VS Payment amt\")\n",
    "plt.xticks(fontsize=8)\n",
    "plt.yticks(fontsize=10)"
   ]
  },
  {
   "cell_type": "code",
   "execution_count": 149,
   "metadata": {},
   "outputs": [
    {
     "data": {
      "text/plain": [
       "(array([0.   , 0.025, 0.05 , 0.075, 0.1  , 0.125, 0.15 , 0.175, 0.2  ]),\n",
       " <a list of 9 Text yticklabel objects>)"
      ]
     },
     "execution_count": 149,
     "metadata": {},
     "output_type": "execute_result"
    },
    {
     "data": {
      "text/plain": [
       "<Figure size 1440x720 with 0 Axes>"
      ]
     },
     "metadata": {},
     "output_type": "display_data"
    },
    {
     "data": {
      "image/png": "[encoded data removed]",
      "text/plain": [
       "<Figure size 432x288 with 1 Axes>"
      ]
     },
     "metadata": {
      "needs_background": "light"
     },
     "output_type": "display_data"
    }
   ],
   "source": [
    "plt.figure(figsize=(20,10))\n",
    "ax33=df51[[\"DEFAULT ratio\"]].plot.bar()\n",
    "ax33.set_xticklabels(df51.index,rotation=45)\n",
    "ax33.set_ylabel(\"Percentage\")\n",
    "ax33.set_title(\"Default Ratio VS Payment amt\")\n",
    "plt.xticks(fontsize=8)\n",
    "plt.yticks(fontsize=10)"
   ]
  },
  {
   "cell_type": "code",
   "execution_count": 28,
   "metadata": {},
   "outputs": [],
   "source": [
    "#plt.figure(1)\n",
    "#plt.subplot(221)\n",
    "#ax33=df5[\"DEFAULT\"].plot.bar()\n",
    "#plt.subplot(222)\n",
    "#ax33=df5[\"Money\"].plot.bar()\n",
    "#plt.show()\n",
    "#fig.subplots_adjust(wspace=10, hspace=1)"
   ]
  },
  {
   "cell_type": "code",
   "execution_count": 47,
   "metadata": {},
   "outputs": [
    {
     "data": {
      "image/png": "[encoded data removed]",
      "text/plain": [
       "<Figure size 432x288 with 1 Axes>"
      ]
     },
     "metadata": {
      "needs_background": "light"
     },
     "output_type": "display_data"
    },
    {
     "data": {
      "text/plain": [
       "<Figure size 1440x720 with 0 Axes>"
      ]
     },
     "execution_count": 47,
     "metadata": {},
     "output_type": "execute_result"
    },
    {
     "data": {
      "text/plain": [
       "<Figure size 1440x720 with 0 Axes>"
      ]
     },
     "metadata": {},
     "output_type": "display_data"
    }
   ],
   "source": [
    "df6=df4.query(\"payment_amt < =5000\")\n",
    "np=range(0,2196)\n",
    "plt.scatter(np, df6['payment_amt'], alpha=0.6)  # transparence 0.6\n",
    "plt.show()\n",
    "plt.figure(figsize=(20,10))"
   ]
  },
  {
   "cell_type": "code",
   "execution_count": 122,
   "metadata": {},
   "outputs": [
    {
     "data": {
      "text/html": [
       "<div>\n",
       "<style scoped>\n",
       "    .dataframe tbody tr th:only-of-type {\n",
       "        vertical-align: middle;\n",
       "    }\n",
       "\n",
       "    .dataframe tbody tr th {\n",
       "        vertical-align: top;\n",
       "    }\n",
       "\n",
       "    .dataframe thead th {\n",
       "        text-align: right;\n",
       "    }\n",
       "</style>\n",
       "<table border=\"1\" class=\"dataframe\">\n",
       "  <thead>\n",
       "    <tr style=\"text-align: right;\">\n",
       "      <th></th>\n",
       "      <th>Number</th>\n",
       "      <th>transaction_id</th>\n",
       "      <th>contract_id</th>\n",
       "      <th>client_id</th>\n",
       "      <th>transaction_date</th>\n",
       "      <th>payment_amt</th>\n",
       "      <th>entity_year_established</th>\n",
       "      <th>payment__code</th>\n",
       "    </tr>\n",
       "  </thead>\n",
       "  <tbody>\n",
       "    <tr>\n",
       "      <th>count</th>\n",
       "      <td>1891.000000</td>\n",
       "      <td>1891.000000</td>\n",
       "      <td>1891.000000</td>\n",
       "      <td>1891.000000</td>\n",
       "      <td>1.891000e+03</td>\n",
       "      <td>1891.000000</td>\n",
       "      <td>1891.000000</td>\n",
       "      <td>1891.0</td>\n",
       "    </tr>\n",
       "    <tr>\n",
       "      <th>mean</th>\n",
       "      <td>12350.795346</td>\n",
       "      <td>12420.088313</td>\n",
       "      <td>647.652565</td>\n",
       "      <td>582.127446</td>\n",
       "      <td>1.516674e+09</td>\n",
       "      <td>277.025865</td>\n",
       "      <td>2010.222105</td>\n",
       "      <td>1.0</td>\n",
       "    </tr>\n",
       "    <tr>\n",
       "      <th>std</th>\n",
       "      <td>6990.006278</td>\n",
       "      <td>7419.159897</td>\n",
       "      <td>317.927399</td>\n",
       "      <td>324.844437</td>\n",
       "      <td>1.009432e+07</td>\n",
       "      <td>253.919548</td>\n",
       "      <td>5.322047</td>\n",
       "      <td>0.0</td>\n",
       "    </tr>\n",
       "    <tr>\n",
       "      <th>min</th>\n",
       "      <td>99.000000</td>\n",
       "      <td>143.000000</td>\n",
       "      <td>1.000000</td>\n",
       "      <td>7.000000</td>\n",
       "      <td>1.499105e+09</td>\n",
       "      <td>0.010000</td>\n",
       "      <td>1999.000000</td>\n",
       "      <td>1.0</td>\n",
       "    </tr>\n",
       "    <tr>\n",
       "      <th>25%</th>\n",
       "      <td>6007.500000</td>\n",
       "      <td>5557.500000</td>\n",
       "      <td>408.000000</td>\n",
       "      <td>289.000000</td>\n",
       "      <td>1.507223e+09</td>\n",
       "      <td>75.000000</td>\n",
       "      <td>2007.000000</td>\n",
       "      <td>1.0</td>\n",
       "    </tr>\n",
       "    <tr>\n",
       "      <th>50%</th>\n",
       "      <td>12239.000000</td>\n",
       "      <td>12733.000000</td>\n",
       "      <td>649.000000</td>\n",
       "      <td>571.000000</td>\n",
       "      <td>1.518110e+09</td>\n",
       "      <td>166.670000</td>\n",
       "      <td>2012.000000</td>\n",
       "      <td>1.0</td>\n",
       "    </tr>\n",
       "    <tr>\n",
       "      <th>75%</th>\n",
       "      <td>17995.000000</td>\n",
       "      <td>18432.500000</td>\n",
       "      <td>852.000000</td>\n",
       "      <td>840.500000</td>\n",
       "      <td>1.525198e+09</td>\n",
       "      <td>416.670000</td>\n",
       "      <td>2014.000000</td>\n",
       "      <td>1.0</td>\n",
       "    </tr>\n",
       "    <tr>\n",
       "      <th>max</th>\n",
       "      <td>25440.000000</td>\n",
       "      <td>25557.000000</td>\n",
       "      <td>1604.000000</td>\n",
       "      <td>1254.000000</td>\n",
       "      <td>1.532456e+09</td>\n",
       "      <td>1000.000000</td>\n",
       "      <td>2018.000000</td>\n",
       "      <td>1.0</td>\n",
       "    </tr>\n",
       "  </tbody>\n",
       "</table>\n",
       "</div>"
      ],
      "text/plain": [
       "             Number  transaction_id  contract_id    client_id  \\\n",
       "count   1891.000000     1891.000000  1891.000000  1891.000000   \n",
       "mean   12350.795346    12420.088313   647.652565   582.127446   \n",
       "std     6990.006278     7419.159897   317.927399   324.844437   \n",
       "min       99.000000      143.000000     1.000000     7.000000   \n",
       "25%     6007.500000     5557.500000   408.000000   289.000000   \n",
       "50%    12239.000000    12733.000000   649.000000   571.000000   \n",
       "75%    17995.000000    18432.500000   852.000000   840.500000   \n",
       "max    25440.000000    25557.000000  1604.000000  1254.000000   \n",
       "\n",
       "       transaction_date  payment_amt  entity_year_established  payment__code  \n",
       "count      1.891000e+03  1891.000000              1891.000000         1891.0  \n",
       "mean       1.516674e+09   277.025865              2010.222105            1.0  \n",
       "std        1.009432e+07   253.919548                 5.322047            0.0  \n",
       "min        1.499105e+09     0.010000              1999.000000            1.0  \n",
       "25%        1.507223e+09    75.000000              2007.000000            1.0  \n",
       "50%        1.518110e+09   166.670000              2012.000000            1.0  \n",
       "75%        1.525198e+09   416.670000              2014.000000            1.0  \n",
       "max        1.532456e+09  1000.000000              2018.000000            1.0  "
      ]
     },
     "execution_count": 122,
     "metadata": {},
     "output_type": "execute_result"
    }
   ],
   "source": [
    "df7=df6.query(\"payment_amt < =1000\")\n",
    "df7.describe()"
   ]
  },
  {
   "cell_type": "code",
   "execution_count": null,
   "metadata": {},
   "outputs": [],
   "source": []
  }
 ],
 "metadata": {
  "kernelspec": {
   "display_name": "Python 3",
   "language": "python",
   "name": "python3"
  },
  "language_info": {
   "codemirror_mode": {
    "name": "ipython",
    "version": 3
   },
   "file_extension": ".py",
   "mimetype": "text/x-python",
   "name": "python",
   "nbconvert_exporter": "python",
   "pygments_lexer": "ipython3",
   "version": "3.7.0"
  }
 },
 "nbformat": 4,
 "nbformat_minor": 2
}
